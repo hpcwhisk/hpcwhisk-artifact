{
 "cells": [
  {
   "cell_type": "code",
   "execution_count": 1,
   "metadata": {},
   "outputs": [],
   "source": [
    "%matplotlib inline\n",
    "import functools\n",
    "import gzip\n",
    "import pandas as pd\n",
    "import os\n",
    "import csv\n",
    "import re\n",
    "import dateutil\n",
    "import numpy as np\n",
    "import pytz\n",
    "import seaborn as sns\n",
    "from collections import defaultdict, namedtuple\n",
    "from datetime import datetime, timedelta\n",
    "from matplotlib import pyplot as plt\n",
    "import matplotlib.dates as mdates\n",
    "import matplotlib"
   ]
  },
  {
   "cell_type": "code",
   "execution_count": 2,
   "metadata": {},
   "outputs": [],
   "source": [
    "LOCAL_TZ = pytz.timezone('CET')\n",
    "BEGIN = dateutil.parser.parse('2022-03-21T00:00:00+01:00').astimezone(LOCAL_TZ)\n",
    "TIMESTAMP_RE = '\\[(?P<timestamp>\\d{4}-\\d{2}-\\d{2}T\\d{2}:\\d{2}:\\d{2}.\\d+Z)\\]'\n",
    "TID_RE =  '\\[#tid_(?P<tid>\\w+)\\]'\n",
    "matplotlib.rcParams['timezone'] = 'CET'\n",
    "plt.rcParams[\"figure.figsize\"] = (5,3)"
   ]
  },
  {
   "cell_type": "code",
   "execution_count": 3,
   "metadata": {},
   "outputs": [],
   "source": [
    "def read_slurm_log(fn):\n",
    "    part = pd.read_csv(fn, sep='|', parse_dates=['Start', 'End'])\n",
    "    part['Start'] = part['Start'].apply(lambda v: v.tz_localize('CET'))\n",
    "    part['End'] = part['End'].apply(lambda v: v.tz_localize('CET'))\n",
    "    return part\n",
    "\n",
    "def read_invoker_events(controller_log):\n",
    "    records = []\n",
    "    _open = gzip.open if controller_log.endswith('.gz') else open\n",
    "    with _open(controller_log, 'rt') as f:\n",
    "        for line in f:\n",
    "            assert re.match(TIMESTAMP_RE, line)\n",
    "            line = line.rstrip()\n",
    "            if m := re.match(f'{TIMESTAMP_RE} \\[INFO\\] \\[#tid_sid_invokerHealth\\] \\[InvokerPool\\] registered a new invoker: (?P<invoker>\\w+)', line):\n",
    "                records.append({\n",
    "                    'timestamp': dateutil.parser.parse(m.group('timestamp')).astimezone(LOCAL_TZ),\n",
    "                    'invoker': m.group('invoker'),\n",
    "                    'event': 'registered'\n",
    "                })\n",
    "            elif m := re.match(f'{TIMESTAMP_RE} \\[INFO\\] \\[#tid_sid_invokerHealth\\] \\[InvokerActor\\] (?P<invoker>\\w+) is (?P<state>[^ ]+)', line):\n",
    "                records.append({\n",
    "                    'timestamp': dateutil.parser.parse(m.group('timestamp')).astimezone(LOCAL_TZ),\n",
    "                    'invoker': m.group('invoker'),\n",
    "                    'event': m.group('state')\n",
    "                })\n",
    "    df = pd.DataFrame(data=records)\n",
    "    df['job'] = df['invoker'].apply(lambda invoker: int(invoker[7:]) if invoker.startswith('invoker') else None)\n",
    "                \n",
    "    return df"
   ]
  },
  {
   "cell_type": "code",
   "execution_count": 4,
   "metadata": {},
   "outputs": [],
   "source": [
    "slurm_log = read_slurm_log('slurm-jobs.txt')"
   ]
  },
  {
   "cell_type": "code",
   "execution_count": 5,
   "metadata": {},
   "outputs": [],
   "source": [
    "invoker_events = read_invoker_events('controller0.log.gz')"
   ]
  },
  {
   "cell_type": "code",
   "execution_count": 6,
   "metadata": {},
   "outputs": [],
   "source": [
    "matching_invoker_events = slurm_log.join(invoker_events.set_index('job'), on='JobID', how='left')"
   ]
  },
  {
   "cell_type": "code",
   "execution_count": 7,
   "metadata": {},
   "outputs": [],
   "source": [
    "class MinBuckets:\n",
    "    def __init__(self, begin):\n",
    "        self.begin = begin\n",
    "        self.buckets = np.zeros(60 * 24)\n",
    "        \n",
    "    def get_offset(self, date):\n",
    "        return min(max(int((date - self.begin).total_seconds() // 60), 0), len(self.buckets) - 1)\n",
    "        \n",
    "    def inc_range(self, begin, end):\n",
    "        begin = self.get_offset(begin)\n",
    "        end = self.get_offset(end)\n",
    "        for i in range(begin, end):\n",
    "            self.buckets[i] += 1\n",
    "\n",
    "def build_stats(df_in):\n",
    "    stats = {\n",
    "        'starting': MinBuckets(BEGIN),\n",
    "        'up': MinBuckets(BEGIN),\n",
    "        'down': MinBuckets(BEGIN),\n",
    "    }\n",
    "\n",
    "    for name, df in df_in.sort_values('timestamp').groupby('JobID'):\n",
    "        booted = False\n",
    "        last_time = df.Start.min()\n",
    "        state = None\n",
    "\n",
    "        for i, row in df.iterrows():\n",
    "            if row.event == 'up' and state != 'up':\n",
    "                # booted up or back online\n",
    "                stats['down' if booted else 'starting'].inc_range(last_time, row.timestamp)\n",
    "                state = 'up'\n",
    "                booted = True\n",
    "                last_time = row.timestamp\n",
    "            elif row.event == 'down' and state != 'down':\n",
    "                stats['up'].inc_range(last_time, row.timestamp)\n",
    "                last_time = row.timestamp\n",
    "                state = 'down'\n",
    "        stop = df.End.max()\n",
    "        if state is not None and last_time is not None:\n",
    "            stats[state].inc_range(last_time, stop)\n",
    "    return stats\n",
    "\n",
    "stats = build_stats(matching_invoker_events)"
   ]
  },
  {
   "cell_type": "code",
   "execution_count": 8,
   "metadata": {},
   "outputs": [
    {
     "data": {
      "image/png": "[encoded data removed]",
      "text/plain": [
       "<Figure size 360x216 with 1 Axes>"
      ]
     },
     "metadata": {
      "needs_background": "light"
     },
     "output_type": "display_data"
    }
   ],
   "source": [
    "def timestamp_range(start, minutes=60*24):\n",
    "    res = []\n",
    "    for i in range(minutes):\n",
    "        res.append(start)\n",
    "        start += timedelta(minutes=1)\n",
    "    return res\n",
    "\n",
    "def plot_job_statuses(warming_up, healthy, irresponsive, start):\n",
    "    _, ax = plt.subplots()\n",
    "    ax.xaxis.set_major_formatter(mdates.DateFormatter('%02Hh'))\n",
    "    ax.set_ylim(0, 70)\n",
    "\n",
    "    plt.plot([], [], color='yellow', label='OW worker jobs, warming up (OW-level)')\n",
    "    plt.plot([], [], color='orange', label='OW worker jobs, healthy (OW-level)')\n",
    "    plt.stackplot(timestamp_range(start), [warming_up, healthy, ], colors=['yellow', 'orange', 'red'])\n",
    "    plt.legend()\n",
    "plot_job_statuses(stats['starting'].buckets, stats['up'].buckets, stats['down'].buckets, BEGIN)\n",
    "\n",
    "plt.tight_layout()\n",
    "plt.savefig('02 - Var model analysis - OW-level - Node statuses.pdf', metadata={'CreationDate': None})"
   ]
  },
  {
   "cell_type": "code",
   "execution_count": 9,
   "metadata": {},
   "outputs": [
    {
     "data": {
      "text/plain": [
       "count    1440.000000\n",
       "mean        4.959028\n",
       "std         5.090329\n",
       "min         0.000000\n",
       "25%         2.000000\n",
       "50%         3.000000\n",
       "75%         6.000000\n",
       "max        42.000000\n",
       "dtype: float64"
      ]
     },
     "execution_count": 9,
     "metadata": {},
     "output_type": "execute_result"
    }
   ],
   "source": [
    "pd.Series(stats['up'].buckets).describe()"
   ]
  },
  {
   "cell_type": "code",
   "execution_count": 10,
   "metadata": {},
   "outputs": [
    {
     "name": "stdout",
     "output_type": "stream",
     "text": [
      "Minutes w/o healthy invoker: 218\n"
     ]
    }
   ],
   "source": [
    "print(f\"Minutes w/o healthy invoker: {sum(stats['up'].buckets == 0)}\")"
   ]
  },
  {
   "cell_type": "code",
   "execution_count": 11,
   "metadata": {},
   "outputs": [
    {
     "name": "stdout",
     "output_type": "stream",
     "text": [
      "Longest period without invoker: 17:59, 85 min\n"
     ]
    }
   ],
   "source": [
    "def get_max_offline_range(df):\n",
    "    start = None\n",
    "    best_len = 0\n",
    "    best_start = None\n",
    "    for i in range(len(df)):\n",
    "        if df[i] == 0:\n",
    "            if not start:\n",
    "                start = i\n",
    "        elif start:\n",
    "            new_len = i - start\n",
    "            if new_len > best_len:\n",
    "                best_len = new_len\n",
    "                best_start = start\n",
    "            start = None\n",
    "    return (best_start // 60), (best_start % 60), best_len\n",
    "\n",
    "print(\"Longest period without invoker: %d:%d, %d min\" % get_max_offline_range(stats['up'].buckets))"
   ]
  },
  {
   "cell_type": "markdown",
   "metadata": {},
   "source": [
    "# Invoker availability"
   ]
  },
  {
   "cell_type": "code",
   "execution_count": 12,
   "metadata": {},
   "outputs": [],
   "source": [
    "def build_invoker_stats(df_in):\n",
    "    job_stats_df = []\n",
    "    for name, df in df_in.sort_values('timestamp').groupby('JobID'):\n",
    "        state = None\n",
    "        total_time = 0\n",
    "        last_up = None\n",
    "        ignore = False\n",
    "\n",
    "        for i, row in df.iterrows():\n",
    "            if row.event == 'up' and state != 'up':\n",
    "                state = 'up'\n",
    "                last_up = row.timestamp\n",
    "            elif row.event == 'down' and state != 'down':\n",
    "                if last_up is None:\n",
    "                    ignore = True # unable to compute total up time\n",
    "                    break\n",
    "                total_time += (row.timestamp - last_up).total_seconds()\n",
    "                state = 'down'\n",
    "                last_up = None\n",
    "                \n",
    "        ignore |= state != 'down' # skip still running\n",
    "        if not ignore:\n",
    "            start, stop = df.Start.min(), df.End.max()\n",
    "            job_stats_df.append({'JobID': name, 'slurm_duration': (stop - start).total_seconds(), 'total_up': total_time, 'Start': start, 'Stop': stop})\n",
    "    job_stats_df = pd.DataFrame(data=job_stats_df)\n",
    "    return job_stats_df\n",
    "job_stats_df = build_invoker_stats(matching_invoker_events)"
   ]
  },
  {
   "cell_type": "code",
   "execution_count": 13,
   "metadata": {},
   "outputs": [
    {
     "name": "stdout",
     "output_type": "stream",
     "text": [
      "Invoker avg availability 14.1 min\n",
      "Invoker median availability 6.9 min\n",
      "Invoker 75th perc availability 14.5 min\n"
     ]
    }
   ],
   "source": [
    "print('Invoker avg availability %.1f min' % (job_stats_df.total_up.mean() / 60))\n",
    "print('Invoker median availability %.1f min' % (job_stats_df.total_up.median() / 60))\n",
    "print('Invoker 75th perc availability %.1f min' % (job_stats_df.total_up.quantile(0.75) / 60))"
   ]
  }
 ],
 "metadata": {
  "kernelspec": {
   "display_name": "Python 3",
   "language": "python",
   "name": "python3"
  },
  "language_info": {
   "codemirror_mode": {
    "name": "ipython",
    "version": 3
   },
   "file_extension": ".py",
   "mimetype": "text/x-python",
   "name": "python",
   "nbconvert_exporter": "python",
   "pygments_lexer": "ipython3",
   "version": "3.8.10"
  }
 },
 "nbformat": 4,
 "nbformat_minor": 4
}

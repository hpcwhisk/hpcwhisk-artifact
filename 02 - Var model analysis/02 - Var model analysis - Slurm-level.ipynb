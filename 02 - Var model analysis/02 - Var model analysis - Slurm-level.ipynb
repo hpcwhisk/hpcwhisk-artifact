{
 "cells": [
  {
   "cell_type": "code",
   "execution_count": 1,
   "metadata": {},
   "outputs": [],
   "source": [
    "from datetime import datetime\n",
    "import matplotlib.pyplot as plt\n",
    "import matplotlib.dates as mdates\n",
    "import numpy as np\n",
    "import copy\n",
    "import re\n",
    "import time\n",
    "import seaborn\n",
    "from datetime import datetime, timedelta\n",
    "\n",
    "plt.rcParams[\"figure.figsize\"] = (5,3)"
   ]
  },
  {
   "cell_type": "code",
   "execution_count": 2,
   "metadata": {},
   "outputs": [],
   "source": [
    "def save_fig(fn):\n",
    "     plt.tight_layout()\n",
    "     plt.savefig(fn, metadata={'CreationDate': None})"
   ]
  },
  {
   "cell_type": "code",
   "execution_count": 3,
   "metadata": {},
   "outputs": [],
   "source": [
    "CONFIG = {}\n",
    "\n",
    "CONFIG['DATA_FILE'] = \"21_03_2022_idle_nodes.txt\"\n",
    "\n",
    "# The data file was generated using the following command (XXX is the user name)\n",
    "# while true; do date +%s; echo -n \"invokers: \"; squeue -u XXX -t r -p lowprio -O nodelist -h | gawk '{print $1}' | paste -sd,; sinfo -h -p lowprio | grep idle; echo \"----\"; sleep 10s; done | tee -a log.txt\n",
    "\n",
    "CONFIG['DATA_LATER_THAN'] = datetime(2022, 3, 21)\n",
    "CONFIG['DATE_EARLIER_THAN'] = datetime(2022, 3, 22)"
   ]
  },
  {
   "cell_type": "code",
   "execution_count": 4,
   "metadata": {},
   "outputs": [],
   "source": [
    "def expand(s):\n",
    "    r = s.group().split(\"-\")\n",
    "    l, r = int(r[0]), int(r[1])\n",
    "    s = []\n",
    "    for i in range(l, r+1):\n",
    "        s.append(\"%04d\" % i)\n",
    "    return \",\".join(s)\n",
    "\n",
    "idleness_records = []\n",
    "max_node_id = 0\n",
    "\n",
    "with open(CONFIG['DATA_FILE'], 'r') as log:\n",
    "    # Read timestamp\n",
    "    timestamp = log.readline()\n",
    "\n",
    "    while timestamp:\n",
    "        # Convert timestamp to integer\n",
    "        timestamp = int(timestamp)\n",
    "\n",
    "        ow_nodes = []\n",
    "\n",
    "        # Read the list of OW invokers\n",
    "        line = log.readline()\n",
    "        line = line.split()\n",
    "        if len(line) > 1:\n",
    "            ow_nodes = line[1]\n",
    "            ow_nodes = ow_nodes.split(\",\")\n",
    "            ow_nodes = [int(x[1:]) for x in ow_nodes]\n",
    "\n",
    "            if max(ow_nodes) > max_node_id:\n",
    "                max_node_id = max(ow_nodes)\n",
    "\n",
    "        idle_nodes = []\n",
    "\n",
    "        line = log.readline()\n",
    "        while line != \"----\\n\":\n",
    "            # Read the list of nodes\n",
    "            line = line.split()\n",
    "            type, record = line[4], line[5]\n",
    "\n",
    "            # We are only interested in type \"idle\"\n",
    "            if type == \"idle\":\n",
    "                # Clean the record\n",
    "                record = record[1:]\n",
    "                if record[0] == \"[\":\n",
    "                    record = record[1:-1]\n",
    "\n",
    "                # Extract node ids\n",
    "                record = re.sub(\"[0-9]{4}-[0-9]{4}\", expand, record).split(\",\")\n",
    "                idle_nodes = idle_nodes + list(map(lambda x: int(x), record))\n",
    "\n",
    "                if max(idle_nodes) > max_node_id:\n",
    "                    max_node_id = max(idle_nodes)\n",
    "            \n",
    "            line = log.readline()\n",
    "\n",
    "        # We are only interested in certain timestamps\n",
    "        if timestamp >= int(time.mktime(CONFIG['DATA_LATER_THAN'].timetuple())) and timestamp < int(time.mktime(CONFIG['DATE_EARLIER_THAN'].timetuple())):\n",
    "            idleness_records.append({\n",
    "                \"timestamp\" : datetime.fromtimestamp(timestamp),\n",
    "                \"idle_nodes\" : idle_nodes,\n",
    "                \"ow_nodes\" : ow_nodes\n",
    "            })\n",
    "\n",
    "        # Read the next timestamp\n",
    "        timestamp = log.readline()"
   ]
  },
  {
   "cell_type": "code",
   "execution_count": 5,
   "metadata": {},
   "outputs": [
    {
     "data": {
      "text/plain": [
       "(8091, 2296, 10.679357231149567)"
      ]
     },
     "execution_count": 5,
     "metadata": {},
     "output_type": "execute_result"
    }
   ],
   "source": [
    "CONFIG['DATA_WIDTH'] = len(idleness_records)\n",
    "CONFIG['DATA_HEIGHT'] = max_node_id + 1 # Some of the nodes were never idle in the measured period, so this number is less than the number of all the nodes in the cluster\n",
    "CONFIG['MEASURE_DISTANCE'] = (idleness_records[-1][\"timestamp\"] - idleness_records[0][\"timestamp\"]).total_seconds() / (CONFIG['DATA_WIDTH'] - 1)\n",
    "\n",
    "CONFIG['DATA_WIDTH'], CONFIG['DATA_HEIGHT'], CONFIG['MEASURE_DISTANCE']"
   ]
  },
  {
   "cell_type": "code",
   "execution_count": 6,
   "metadata": {},
   "outputs": [],
   "source": [
    "RESOURCES = {}"
   ]
  },
  {
   "cell_type": "code",
   "execution_count": 7,
   "metadata": {},
   "outputs": [],
   "source": [
    "# Convert df to a list of idle intervals\n",
    "RESOURCES['initial_node_status'] = {}\n",
    "\n",
    "# Create empty bitarrays for all nodes\n",
    "for node in range(CONFIG['DATA_HEIGHT']):\n",
    "    RESOURCES['initial_node_status'][node] = [0] * CONFIG['DATA_WIDTH']\n",
    "\n",
    "for timepoint in range(CONFIG['DATA_WIDTH']):\n",
    "    for node in idleness_records[timepoint][\"idle_nodes\"]:\n",
    "        RESOURCES['initial_node_status'][node][timepoint] = 1\n",
    "    for node in idleness_records[timepoint][\"ow_nodes\"]:\n",
    "        RESOURCES['initial_node_status'][node][timepoint] = 2"
   ]
  },
  {
   "cell_type": "code",
   "execution_count": 8,
   "metadata": {
    "scrolled": true
   },
   "outputs": [],
   "source": [
    "RESOURCES['total_number_of_measurements'] = CONFIG['DATA_WIDTH'] * CONFIG['DATA_HEIGHT']\n",
    "RESOURCES['total_number_of_measurements__busy'] = sum([RESOURCES['initial_node_status'][node].count(0) for node in range(CONFIG['DATA_HEIGHT'])])\n",
    "RESOURCES['total_number_of_measurements__idle'] = \\\n",
    "    RESOURCES['total_number_of_measurements'] - RESOURCES['total_number_of_measurements__busy']\n",
    "RESOURCES['share_of_measurements__busy'] = \\\n",
    "    RESOURCES['total_number_of_measurements__busy'] / RESOURCES['total_number_of_measurements']\n",
    "RESOURCES['share_of_measurements__idle'] = \\\n",
    "    RESOURCES['total_number_of_measurements__idle'] / RESOURCES['total_number_of_measurements']"
   ]
  },
  {
   "cell_type": "code",
   "execution_count": 9,
   "metadata": {},
   "outputs": [
    {
     "data": {
      "text/plain": [
       "0.0032133393795403076"
      ]
     },
     "execution_count": 9,
     "metadata": {},
     "output_type": "execute_result"
    }
   ],
   "source": [
    "RESOURCES['share_of_measurements__idle']"
   ]
  },
  {
   "cell_type": "markdown",
   "metadata": {},
   "source": [
    "# Question 1\n",
    "\n",
    "## How much coverage we have?"
   ]
  },
  {
   "cell_type": "code",
   "execution_count": 10,
   "metadata": {},
   "outputs": [],
   "source": [
    "MID_RESULTS = {}\n",
    "MID_RESULTS['number_of_free_nodes_each_point'] = \\\n",
    "    [CONFIG['DATA_HEIGHT'] - item.count(0) for item in zip(*[RESOURCES['initial_node_status'][node] for node in range(CONFIG['DATA_HEIGHT'])])]"
   ]
  },
  {
   "cell_type": "code",
   "execution_count": 11,
   "metadata": {},
   "outputs": [
    {
     "name": "stdout",
     "output_type": "stream",
     "text": [
      "7.377827215424546\n"
     ]
    }
   ],
   "source": [
    "print(np.mean(MID_RESULTS['number_of_free_nodes_each_point']))"
   ]
  },
  {
   "cell_type": "code",
   "execution_count": 12,
   "metadata": {},
   "outputs": [],
   "source": [
    "import copy\n",
    "\n",
    "MID_RESULTS['simulation'] = {}\n",
    "MID_RESULTS['simulation']['availability_status'] = copy.deepcopy(RESOURCES['initial_node_status'])\n",
    "MID_RESULTS['simulation']['total_warmup_ready_time'] = sum([item.count(2) for item in zip(*[RESOURCES['initial_node_status'][node] for node in range(CONFIG['DATA_HEIGHT'])])])"
   ]
  },
  {
   "cell_type": "code",
   "execution_count": 13,
   "metadata": {},
   "outputs": [
    {
     "name": "stdout",
     "output_type": "stream",
     "text": [
      "434788.67095179233\n"
     ]
    }
   ],
   "source": [
    "print(MID_RESULTS['simulation']['total_warmup_ready_time']*CONFIG['MEASURE_DISTANCE'])"
   ]
  },
  {
   "cell_type": "code",
   "execution_count": 14,
   "metadata": {},
   "outputs": [],
   "source": [
    "z = tuple(zip(*[MID_RESULTS['simulation']['availability_status'][node] for node in range(CONFIG['DATA_HEIGHT'])]))\n",
    "MID_RESULTS['simulation']['status_summary'] = [[item.count(i) for item in z] for i in range(4)]"
   ]
  },
  {
   "cell_type": "code",
   "execution_count": 15,
   "metadata": {},
   "outputs": [
    {
     "data": {
      "image/png": "[encoded data removed]",
      "text/plain": [
       "<Figure size 360x216 with 2 Axes>"
      ]
     },
     "metadata": {
      "needs_background": "light"
     },
     "output_type": "display_data"
    }
   ],
   "source": [
    "_, ax = plt.subplots()\n",
    "\n",
    "plt.plot([], [], color='orange', label='OW worker jobs (Slurm-level)')\n",
    "plt.stackplot(list(map(lambda x : x[\"timestamp\"], idleness_records)), [MID_RESULTS['simulation']['status_summary'][2]], colors=['orange'])\n",
    "\n",
    "# handles, labels = ax.get_legend_handles_labels()\n",
    "# patch = patches.Patch(color='green', label='Idle nodes (Simulation)')\n",
    "# handles.append(patch) \n",
    "\n",
    "ax.legend(loc=(0.02, 0.35), framealpha=0.35)\n",
    "\n",
    "ax2 = ax.twinx()\n",
    "ax2.set_ylim(0, 70)\n",
    "ax2.invert_yaxis()\n",
    "\n",
    "plt.plot([], [], color='green', label='Idle nodes (Slurm-level)')\n",
    "plt.stackplot(list(map(lambda x : x[\"timestamp\"], idleness_records)), MID_RESULTS['simulation']['status_summary'][1], colors=['green'])\n",
    "\n",
    "ax2.legend(loc=(0.46, 0.8), framealpha=0.35)\n",
    "\n",
    "ax.xaxis.set_major_formatter(mdates.DateFormatter('%Hh'))\n",
    "ax.set_ylim(0, 70)\n",
    "plt.xticks(rotation = 90)\n",
    "\n",
    "save_fig(\"02 - Var model analysis - Slurm-level - Node statuses TS.pdf\")\n",
    "pass"
   ]
  },
  {
   "cell_type": "code",
   "execution_count": 16,
   "metadata": {
    "scrolled": true
   },
   "outputs": [
    {
     "name": "stdout",
     "output_type": "stream",
     "text": [
      "2.0\n",
      "4.0\n",
      "6.0\n",
      "5.031887282165369\n"
     ]
    }
   ],
   "source": [
    "print(np.quantile(MID_RESULTS['simulation']['status_summary'][2], 0.25))\n",
    "print(np.quantile(MID_RESULTS['simulation']['status_summary'][2], 0.5))\n",
    "print(np.quantile(MID_RESULTS['simulation']['status_summary'][2], 0.75))\n",
    "print(np.mean(MID_RESULTS['simulation']['status_summary'][2]))"
   ]
  },
  {
   "cell_type": "code",
   "execution_count": 17,
   "metadata": {},
   "outputs": [
    {
     "data": {
      "image/png": "[encoded data removed]",
      "text/plain": [
       "<Figure size 360x216 with 1 Axes>"
      ]
     },
     "metadata": {
      "needs_background": "light"
     },
     "output_type": "display_data"
    }
   ],
   "source": [
    "seaborn.ecdfplot(MID_RESULTS['simulation']['status_summary'][1], color = 'green')\n",
    "seaborn.ecdfplot(MID_RESULTS['simulation']['status_summary'][2], color = 'orange')\n",
    "seaborn.ecdfplot(MID_RESULTS['number_of_free_nodes_each_point'], color = 'black')\n",
    "\n",
    "save_fig(\"02 - Var model analysis - Slurm-level - Node statuses CDF.pdf\")\n",
    "pass"
   ]
  },
  {
   "cell_type": "code",
   "execution_count": 18,
   "metadata": {},
   "outputs": [
    {
     "name": "stdout",
     "output_type": "stream",
     "text": [
      "Share of idle time used as ready or warmup: 0.6820283445572419\n",
      "Share of idle time not used: 0.31797165544275807\n",
      "Number of measurements where no OW worker was warming up or ready: 1184\n",
      "Share of time where no OW worker was ready: 0.14633543443332098\n",
      "Average number of warmup or ready nodes:  5.031887282165369\n"
     ]
    }
   ],
   "source": [
    "print(\"Share of idle time used as ready or warmup:\", MID_RESULTS['simulation']['total_warmup_ready_time']/RESOURCES['total_number_of_measurements__idle'])\n",
    "print(\"Share of idle time not used:\", 1 - MID_RESULTS['simulation']['total_warmup_ready_time']/RESOURCES['total_number_of_measurements__idle'])\n",
    "print(\"Number of measurements where no OW worker was warming up or ready:\", MID_RESULTS['simulation']['status_summary'][2].count(0))\n",
    "print(\"Share of time where no OW worker was ready:\", MID_RESULTS['simulation']['status_summary'][2].count(0)/CONFIG['DATA_WIDTH'])\n",
    "print(\"Average number of warmup or ready nodes: \", (MID_RESULTS['simulation']['total_warmup_ready_time']/RESOURCES['total_number_of_measurements__idle']) * (sum(MID_RESULTS['number_of_free_nodes_each_point'])/CONFIG['DATA_WIDTH']))"
   ]
  }
 ],
 "metadata": {
  "interpreter": {
   "hash": "082e9a3bcad0a290d0001e938aa60b99250c6c2ef33a923c00b70f9826caf4b7"
  },
  "kernelspec": {
   "display_name": "Python 3.8.6 64-bit ('3.8')",
   "name": "python3"
  },
  "language_info": {
   "codemirror_mode": {
    "name": "ipython",
    "version": 3
   },
   "file_extension": ".py",
   "mimetype": "text/x-python",
   "name": "python",
   "nbconvert_exporter": "python",
   "pygments_lexer": "ipython3",
   "version": "3.8.6"
  }
 },
 "nbformat": 4,
 "nbformat_minor": 4
}

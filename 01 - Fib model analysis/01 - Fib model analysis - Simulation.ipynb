{
 "cells": [
  {
   "cell_type": "code",
   "execution_count": 1,
   "metadata": {},
   "outputs": [],
   "source": [
    "from datetime import datetime\n",
    "from bitarray import bitarray\n",
    "import matplotlib.pyplot as plt\n",
    "import matplotlib.dates as mdates\n",
    "import numpy as np\n",
    "import seaborn\n",
    "import bisect\n",
    "import copy\n",
    "import re\n",
    "import time\n",
    "from datetime import datetime, timedelta\n",
    "\n",
    "plt.rcParams[\"figure.figsize\"] = (5,3)"
   ]
  },
  {
   "cell_type": "code",
   "execution_count": 2,
   "metadata": {},
   "outputs": [],
   "source": [
    "def save_fig(fn):\n",
    "     plt.tight_layout()\n",
    "     plt.savefig(fn, metadata={'CreationDate': None})"
   ]
  },
  {
   "cell_type": "code",
   "execution_count": 3,
   "metadata": {},
   "outputs": [],
   "source": [
    "CONFIG = {}\n",
    "\n",
    "CONFIG['DATA_FILE'] = \"17_03_2022_idle_nodes.txt\"\n",
    "\n",
    "# The data file was generated using the following command (XXX is the user name)\n",
    "# while true; do date +%s; echo -n \"invokers: \"; squeue -u XXX -t r -p lowprio -O nodelist -h | gawk '{print $1}' | paste -sd,; sinfo -h -p lowprio | grep idle; echo \"----\"; sleep 10s; done | tee -a log.txt\n",
    "\n",
    "CONFIG['DATA_LATER_THAN'] = datetime(2022, 3, 17)\n",
    "CONFIG['DATE_EARLIER_THAN'] = datetime(2022, 3, 18)"
   ]
  },
  {
   "cell_type": "code",
   "execution_count": 4,
   "metadata": {},
   "outputs": [],
   "source": [
    "def expand(s):\n",
    "    r = s.group().split(\"-\")\n",
    "    l, r = int(r[0]), int(r[1])\n",
    "    s = []\n",
    "    for i in range(l, r+1):\n",
    "        s.append(\"%04d\" % i)\n",
    "    return \",\".join(s)\n",
    "\n",
    "idleness_records = []\n",
    "max_node_id = 0\n",
    "\n",
    "with open(CONFIG['DATA_FILE'], 'r') as log:\n",
    "    # Read timestamp\n",
    "    timestamp = log.readline()\n",
    "\n",
    "    while timestamp:\n",
    "        # Convert timestamp to integer\n",
    "        timestamp = int(timestamp)\n",
    "\n",
    "        ow_nodes = []\n",
    "\n",
    "        # Read the list of OW invokers\n",
    "        line = log.readline()\n",
    "        line = line.split()\n",
    "        if len(line) > 1:\n",
    "            ow_nodes = line[1]\n",
    "            ow_nodes = ow_nodes.split(\",\")\n",
    "            ow_nodes = [int(x[1:]) for x in ow_nodes]\n",
    "\n",
    "            if max(ow_nodes) > max_node_id:\n",
    "                max_node_id = max(ow_nodes)\n",
    "\n",
    "        idle_nodes = []\n",
    "\n",
    "        line = log.readline()\n",
    "        while line != \"----\\n\":\n",
    "            # Read the list of nodes\n",
    "            line = line.split()\n",
    "            type, record = line[4], line[5]\n",
    "\n",
    "            # We are only interested in type \"idle\"\n",
    "            if type == \"idle\":\n",
    "                # Clean the record\n",
    "                record = record[1:]\n",
    "                if record[0] == \"[\":\n",
    "                    record = record[1:-1]\n",
    "\n",
    "                # Extract node ids\n",
    "                record = re.sub(\"[0-9]{4}-[0-9]{4}\", expand, record).split(\",\")\n",
    "                idle_nodes = idle_nodes + list(map(lambda x: int(x), record))\n",
    "\n",
    "                if max(idle_nodes) > max_node_id:\n",
    "                    max_node_id = max(idle_nodes)\n",
    "            \n",
    "            line = log.readline()\n",
    "\n",
    "        # We are only interested in certain timestamps\n",
    "        if timestamp >= int(time.mktime(CONFIG['DATA_LATER_THAN'].timetuple())) and timestamp < int(time.mktime(CONFIG['DATE_EARLIER_THAN'].timetuple())):\n",
    "            idleness_records.append({\n",
    "                \"timestamp\" : datetime.fromtimestamp(timestamp),\n",
    "                \"idle_nodes\" : idle_nodes,\n",
    "                \"ow_nodes\" : ow_nodes\n",
    "            })\n",
    "\n",
    "        # Read the next timestamp\n",
    "        timestamp = log.readline()"
   ]
  },
  {
   "cell_type": "code",
   "execution_count": 5,
   "metadata": {},
   "outputs": [
    {
     "data": {
      "text/plain": [
       "(8057, 2288, 10.723187686196624)"
      ]
     },
     "execution_count": 5,
     "metadata": {},
     "output_type": "execute_result"
    }
   ],
   "source": [
    "CONFIG['DATA_WIDTH'] = len(idleness_records)\n",
    "CONFIG['DATA_HEIGHT'] = max_node_id + 1 # Some of the nodes were never idle in the measured period, so this number is less than the number of all the nodes in the cluster\n",
    "CONFIG['MEASURE_DISTANCE'] = (idleness_records[-1][\"timestamp\"] - idleness_records[0][\"timestamp\"]).total_seconds() / (CONFIG['DATA_WIDTH'] - 1)\n",
    "\n",
    "CONFIG['DATA_WIDTH'], CONFIG['DATA_HEIGHT'], CONFIG['MEASURE_DISTANCE']"
   ]
  },
  {
   "cell_type": "code",
   "execution_count": 6,
   "metadata": {},
   "outputs": [],
   "source": [
    "RESOURCES = {}"
   ]
  },
  {
   "cell_type": "code",
   "execution_count": 7,
   "metadata": {},
   "outputs": [],
   "source": [
    "# Convert df to a list of idle intervals\n",
    "RESOURCES['initial_node_status'] = {}\n",
    "\n",
    "# Create empty bitarrays for all nodes\n",
    "for node in range(CONFIG['DATA_HEIGHT']):\n",
    "    RESOURCES['initial_node_status'][node] = bitarray(CONFIG['DATA_WIDTH'])\n",
    "    RESOURCES['initial_node_status'][node].setall(0)\n",
    "\n",
    "for timepoint in range(CONFIG['DATA_WIDTH']):\n",
    "    for node in idleness_records[timepoint][\"idle_nodes\"]:\n",
    "        RESOURCES['initial_node_status'][node][timepoint] = 1\n",
    "    for node in idleness_records[timepoint][\"ow_nodes\"]:\n",
    "        RESOURCES['initial_node_status'][node][timepoint] = 1"
   ]
  },
  {
   "cell_type": "code",
   "execution_count": 8,
   "metadata": {
    "scrolled": true
   },
   "outputs": [],
   "source": [
    "RESOURCES['total_number_of_measurements'] = CONFIG['DATA_WIDTH'] * CONFIG['DATA_HEIGHT']\n",
    "RESOURCES['total_number_of_measurements__busy'] = sum([RESOURCES['initial_node_status'][node].count(0) for node in range(CONFIG['DATA_HEIGHT'])])\n",
    "RESOURCES['total_number_of_measurements__idle'] = \\\n",
    "    RESOURCES['total_number_of_measurements'] - RESOURCES['total_number_of_measurements__busy']\n",
    "RESOURCES['share_of_measurements__busy'] = \\\n",
    "    RESOURCES['total_number_of_measurements__busy'] / RESOURCES['total_number_of_measurements']\n",
    "RESOURCES['share_of_measurements__idle'] = \\\n",
    "    RESOURCES['total_number_of_measurements__idle'] / RESOURCES['total_number_of_measurements']"
   ]
  },
  {
   "cell_type": "code",
   "execution_count": 9,
   "metadata": {},
   "outputs": [
    {
     "data": {
      "text/plain": [
       "0.005180744537825337"
      ]
     },
     "execution_count": 9,
     "metadata": {},
     "output_type": "execute_result"
    }
   ],
   "source": [
    "RESOURCES['share_of_measurements__idle']"
   ]
  },
  {
   "cell_type": "markdown",
   "metadata": {},
   "source": [
    "# Question 1\n",
    "\n",
    "## How many nodes are free at each measurement?"
   ]
  },
  {
   "cell_type": "code",
   "execution_count": 10,
   "metadata": {},
   "outputs": [],
   "source": [
    "MID_RESULTS = {}\n",
    "MID_RESULTS['number_of_free_nodes_each_point'] = \\\n",
    "    [sum(item) for item in zip(*[RESOURCES['initial_node_status'][node] for node in range(CONFIG['DATA_HEIGHT'])])]"
   ]
  },
  {
   "cell_type": "code",
   "execution_count": 11,
   "metadata": {},
   "outputs": [
    {
     "name": "stdout",
     "output_type": "stream",
     "text": [
      "5.0\n",
      "11.0\n",
      "16.0\n",
      "11.85354350254437\n",
      "0.006329899466302594\n"
     ]
    }
   ],
   "source": [
    "print(np.quantile(MID_RESULTS['number_of_free_nodes_each_point'], 0.25))\n",
    "print(np.quantile(MID_RESULTS['number_of_free_nodes_each_point'], 0.5))\n",
    "print(np.quantile(MID_RESULTS['number_of_free_nodes_each_point'], 0.75))\n",
    "print(np.mean(MID_RESULTS['number_of_free_nodes_each_point']))\n",
    "print(MID_RESULTS['number_of_free_nodes_each_point'].count(0) / CONFIG[\"DATA_WIDTH\"])"
   ]
  },
  {
   "cell_type": "code",
   "execution_count": 12,
   "metadata": {},
   "outputs": [
    {
     "data": {
      "image/png": "[encoded data removed]",
      "text/plain": [
       "<Figure size 360x216 with 1 Axes>"
      ]
     },
     "metadata": {
      "needs_background": "light"
     },
     "output_type": "display_data"
    }
   ],
   "source": [
    "s = seaborn.ecdfplot(MID_RESULTS['number_of_free_nodes_each_point'], color = 'green')\n",
    "s.set(xlabel='Maximum number of idle nodes', ylabel='Proportion of time')\n",
    "pass"
   ]
  },
  {
   "cell_type": "code",
   "execution_count": 13,
   "metadata": {},
   "outputs": [
    {
     "data": {
      "image/png": "[encoded data removed]",
      "text/plain": [
       "<Figure size 360x216 with 1 Axes>"
      ]
     },
     "metadata": {
      "needs_background": "light"
     },
     "output_type": "display_data"
    }
   ],
   "source": [
    "_, ax = plt.subplots()\n",
    "ax.xaxis.set_major_formatter(mdates.DateFormatter('%Hh'))\n",
    "ax.set_ylim(0, 70)\n",
    "\n",
    "plt.plot([], [], color='green', label='Available nodes')\n",
    "plt.stackplot(list(map(lambda x : x[\"timestamp\"], idleness_records)), MID_RESULTS['number_of_free_nodes_each_point'], color = 'green')\n",
    "\n",
    "plt.legend()\n",
    "save_fig(\"01 - Fib model analysis - Simulation - Idle nodes TS.pdf\")\n",
    "pass"
   ]
  },
  {
   "cell_type": "markdown",
   "metadata": {},
   "source": [
    "# Question 2\n",
    "\n",
    "## How long are the periods of idleness?"
   ]
  },
  {
   "cell_type": "code",
   "execution_count": 14,
   "metadata": {},
   "outputs": [],
   "source": [
    "def ll(r):\n",
    "    q = []\n",
    "    l = 0\n",
    "    for bit in range(len(r)):\n",
    "        if r[bit] == 1:\n",
    "            l += 1\n",
    "        elif l > 0:\n",
    "            q.append(l)\n",
    "            l = 0\n",
    "    if l > 0:\n",
    "        q.append(l)\n",
    "    return q\n",
    "\n",
    "MID_RESULTS['idleness_periods'] = \\\n",
    "    [item for lst in [ll(RESOURCES['initial_node_status'][node]) for node in range(CONFIG['DATA_HEIGHT'])] for item in lst]   "
   ]
  },
  {
   "cell_type": "code",
   "execution_count": 15,
   "metadata": {},
   "outputs": [
    {
     "name": "stdout",
     "output_type": "stream",
     "text": [
      "53.61593843098312\n",
      "128.6782522343595\n",
      "503.9898212512413\n",
      "59.72732958098812\n"
     ]
    }
   ],
   "source": [
    "print(np.quantile(MID_RESULTS['idleness_periods'], 0.25)*CONFIG['MEASURE_DISTANCE'])\n",
    "print(np.quantile(MID_RESULTS['idleness_periods'], 0.5)*CONFIG['MEASURE_DISTANCE'])\n",
    "print(np.quantile(MID_RESULTS['idleness_periods'], 0.75)*CONFIG['MEASURE_DISTANCE'])\n",
    "print(np.mean(MID_RESULTS['idleness_periods']))"
   ]
  },
  {
   "cell_type": "code",
   "execution_count": 16,
   "metadata": {},
   "outputs": [
    {
     "data": {
      "image/png": "[encoded data removed]",
      "text/plain": [
       "<Figure size 360x216 with 1 Axes>"
      ]
     },
     "metadata": {
      "needs_background": "light"
     },
     "output_type": "display_data"
    }
   ],
   "source": [
    "seaborn.ecdfplot(MID_RESULTS['idleness_periods'], color = 'purple')\n",
    "pass"
   ]
  },
  {
   "cell_type": "markdown",
   "metadata": {},
   "source": [
    "# Question 3\n",
    "\n",
    "## Simulation"
   ]
  },
  {
   "cell_type": "code",
   "execution_count": 17,
   "metadata": {},
   "outputs": [],
   "source": [
    "def find_le(a, x):\n",
    "    'Find rightmost value less than or equal to x'\n",
    "    i = bisect.bisect_right(a, x)\n",
    "    if i:\n",
    "        return a[i-1]\n",
    "    raise ValueError"
   ]
  },
  {
   "cell_type": "code",
   "execution_count": 18,
   "metadata": {},
   "outputs": [],
   "source": [
    "# Worker lengths in minutes\n",
    "SIMULATION_VARIANTS = {\n",
    "    \"A1\" : [2, 4, 6, 8, 14, 22, 34, 56, 90],\n",
    "    \"A2\" : [2, 4, 8, 12, 20, 34, 54, 88],\n",
    "    \"A3\" : [2, 4, 6, 10, 16, 26, 42, 68, 110],\n",
    "    \"B\"  : [2, 4, 8, 16, 32, 64],\n",
    "    \"C1\" : [2, 4, 6, 8, 10, 12, 14, 16, 18, 20],\n",
    "    \"C2\" : [2*i for i in range(1,61)]\n",
    "}"
   ]
  },
  {
   "cell_type": "code",
   "execution_count": 19,
   "metadata": {},
   "outputs": [],
   "source": [
    "# Set warmup time (measurements)\n",
    "WORKER_WARMUP_TIME = 2\n",
    "SIMULATION_VARIANT = \"A1\"\n",
    "\n",
    "# Scaled worker lengths (measurements)\n",
    "WORKER_LENGTHS = [x*6 for x in SIMULATION_VARIANTS[SIMULATION_VARIANT]]"
   ]
  },
  {
   "cell_type": "code",
   "execution_count": 20,
   "metadata": {},
   "outputs": [
    {
     "name": "stdout",
     "output_type": "stream",
     "text": [
      "Maximum possible share of idle time used as ready: 0.968064164851734\n"
     ]
    }
   ],
   "source": [
    "ms = sum(map(lambda x: max(0, x - WORKER_WARMUP_TIME), MID_RESULTS['idleness_periods']))/RESOURCES['total_number_of_measurements__idle']\n",
    "print(\"Maximum possible share of idle time used as ready:\", ms)"
   ]
  },
  {
   "cell_type": "code",
   "execution_count": 21,
   "metadata": {},
   "outputs": [],
   "source": [
    "MID_RESULTS['simulation'] = {}"
   ]
  },
  {
   "cell_type": "code",
   "execution_count": 22,
   "metadata": {},
   "outputs": [],
   "source": [
    "import copy\n",
    "MID_RESULTS['simulation']['availability_status'] = copy.deepcopy(RESOURCES['initial_node_status'])\n",
    "\n",
    "for node in range(CONFIG['DATA_HEIGHT']):\n",
    "    MID_RESULTS['simulation']['availability_status'][node] = \\\n",
    "        MID_RESULTS['simulation']['availability_status'][node].tolist()"
   ]
  },
  {
   "cell_type": "code",
   "execution_count": 23,
   "metadata": {},
   "outputs": [],
   "source": [
    "MID_RESULTS['simulation']['total_warmup_time'] = 0\n",
    "MID_RESULTS['simulation']['total_ready_time'] = 0\n",
    "MID_RESULTS['simulation']['total_worker_jobs'] = 0"
   ]
  },
  {
   "cell_type": "code",
   "execution_count": 24,
   "metadata": {
    "tags": [
     "outputPrepend"
    ]
   },
   "outputs": [],
   "source": [
    "# Go through all the nodes and simulate the warming up\n",
    "node_counter = 0\n",
    "for node in range(CONFIG['DATA_HEIGHT']):\n",
    "    i = 0\n",
    "    \n",
    "    node_counter += 1\n",
    "    # print(\"[Simulating node %i/%i]\" % (node_counter, CONFIG['DATA_HEIGHT']))\n",
    "    \n",
    "    while i < CONFIG['DATA_WIDTH']:\n",
    "        start_index = i        \n",
    "        # Find the length of the period of ones\n",
    "        while i < CONFIG['DATA_WIDTH'] and MID_RESULTS['simulation']['availability_status'][node][i] == 1:\n",
    "            i += 1\n",
    "        end_index = i\n",
    "        i += 1\n",
    "                \n",
    "        # If the period has non-zero length\n",
    "        while end_index - start_index >= min(WORKER_LENGTHS):\n",
    "            max_container = find_le(WORKER_LENGTHS, end_index - start_index)\n",
    "            # print(\"\\tFound promising space %i, putting OW job of length %i\" % (end_index - start_index, max_container))\n",
    "            MID_RESULTS['simulation']['availability_status'][node][start_index:(start_index + WORKER_WARMUP_TIME)] = [2] * WORKER_WARMUP_TIME\n",
    "            MID_RESULTS['simulation']['availability_status'][node][start_index + WORKER_WARMUP_TIME:start_index + max_container] = [3] * (max_container - WORKER_WARMUP_TIME)\n",
    "            \n",
    "            MID_RESULTS['simulation']['total_warmup_time'] += WORKER_WARMUP_TIME\n",
    "            MID_RESULTS['simulation']['total_ready_time'] += (max_container - WORKER_WARMUP_TIME)\n",
    "            MID_RESULTS['simulation']['total_worker_jobs'] += 1\n",
    "            \n",
    "            start_index += max_container\n",
    "        \n",
    "        # if end_index - start_index > 0:\n",
    "        #     print(\"\\tNode left free for %i ten-second periods [%i, %i)\" % (end_index - start_index, start_index, end_index))"
   ]
  },
  {
   "cell_type": "code",
   "execution_count": 25,
   "metadata": {},
   "outputs": [
    {
     "name": "stdout",
     "output_type": "stream",
     "text": [
      "2496\n",
      "85320\n",
      "1248\n"
     ]
    }
   ],
   "source": [
    "print(MID_RESULTS['simulation']['total_warmup_time'])\n",
    "print(MID_RESULTS['simulation']['total_ready_time'])\n",
    "print(MID_RESULTS['simulation']['total_worker_jobs'])"
   ]
  },
  {
   "cell_type": "code",
   "execution_count": 26,
   "metadata": {},
   "outputs": [],
   "source": [
    "z = tuple(zip(*[MID_RESULTS['simulation']['availability_status'][node] for node in range(CONFIG['DATA_HEIGHT'])]))\n",
    "MID_RESULTS['simulation']['status_summary'] = [[item.count(i) for item in z] for i in range(4)]"
   ]
  },
  {
   "cell_type": "code",
   "execution_count": 27,
   "metadata": {},
   "outputs": [
    {
     "data": {
      "image/png": "[encoded data removed]",
      "text/plain": [
       "<Figure size 360x216 with 2 Axes>"
      ]
     },
     "metadata": {
      "needs_background": "light"
     },
     "output_type": "display_data"
    }
   ],
   "source": [
    "_, ax = plt.subplots()\n",
    "\n",
    "plt.plot([], [], color='orange', label='OW worker jobs, ready (Simulation)')\n",
    "plt.plot([], [], color='black', label='OW worker jobs, warming up (Simulation)')\n",
    "plt.stackplot(list(map(lambda x : x[\"timestamp\"], idleness_records)), [MID_RESULTS['simulation']['status_summary'][3], MID_RESULTS['simulation']['status_summary'][2]], colors=['orange', 'black'])\n",
    "\n",
    "# handles, labels = ax.get_legend_handles_labels()\n",
    "# patch = patches.Patch(color='green', label='Idle nodes (Simulation)')\n",
    "# handles.append(patch) \n",
    "\n",
    "ax.legend(loc=(0.02, 0.35), framealpha=0.35)\n",
    "\n",
    "ax2 = ax.twinx()\n",
    "ax2.set_ylim(0, 70)\n",
    "ax2.invert_yaxis()\n",
    "\n",
    "plt.plot([], [], color='green', label='Idle nodes (Simulation)')\n",
    "plt.stackplot(list(map(lambda x : x[\"timestamp\"], idleness_records)), MID_RESULTS['simulation']['status_summary'][1], colors=['green'])\n",
    "\n",
    "ax2.legend(loc=(0.48, 0.8), framealpha=0.35)\n",
    "\n",
    "ax.xaxis.set_major_formatter(mdates.DateFormatter('%Hh'))\n",
    "ax.set_ylim(0, 70)\n",
    "plt.xticks(rotation = 90)\n",
    "\n",
    "save_fig(\"01 - Fib model analysis - Simulation - Node statuses TS.pdf\")\n",
    "pass"
   ]
  },
  {
   "cell_type": "code",
   "execution_count": 28,
   "metadata": {
    "scrolled": true
   },
   "outputs": [
    {
     "name": "stdout",
     "output_type": "stream",
     "text": [
      "4.0\n",
      "10.0\n",
      "14.0\n",
      "10.58954946009681\n"
     ]
    }
   ],
   "source": [
    "print(np.quantile(MID_RESULTS['simulation']['status_summary'][3], 0.25))\n",
    "print(np.quantile(MID_RESULTS['simulation']['status_summary'][3], 0.5))\n",
    "print(np.quantile(MID_RESULTS['simulation']['status_summary'][3], 0.75))\n",
    "print(np.mean(MID_RESULTS['simulation']['status_summary'][3]))"
   ]
  },
  {
   "cell_type": "code",
   "execution_count": 29,
   "metadata": {},
   "outputs": [
    {
     "name": "stdout",
     "output_type": "stream",
     "text": [
      "0.0\n",
      "0.0\n",
      "0.0\n",
      "0.3097927268213975\n"
     ]
    }
   ],
   "source": [
    "print(np.quantile(MID_RESULTS['simulation']['status_summary'][2], 0.25))\n",
    "print(np.quantile(MID_RESULTS['simulation']['status_summary'][2], 0.5))\n",
    "print(np.quantile(MID_RESULTS['simulation']['status_summary'][2], 0.75))\n",
    "print(np.mean(MID_RESULTS['simulation']['status_summary'][2]))"
   ]
  },
  {
   "cell_type": "code",
   "execution_count": 30,
   "metadata": {},
   "outputs": [
    {
     "data": {
      "image/png": "[encoded data removed]",
      "text/plain": [
       "<Figure size 360x216 with 1 Axes>"
      ]
     },
     "metadata": {
      "needs_background": "light"
     },
     "output_type": "display_data"
    }
   ],
   "source": [
    "seaborn.ecdfplot(MID_RESULTS['simulation']['status_summary'][1], color = 'green')\n",
    "seaborn.ecdfplot(list(map(lambda x : MID_RESULTS['simulation']['status_summary'][3][x], range(CONFIG['DATA_WIDTH']))), color = 'orange')\n",
    "seaborn.ecdfplot(MID_RESULTS['number_of_free_nodes_each_point'], color = 'black')\n",
    "\n",
    "save_fig(\"01 - Fib model analysis - Simulation - Node statuses CDF.pdf\")\n",
    "pass"
   ]
  },
  {
   "cell_type": "code",
   "execution_count": 31,
   "metadata": {},
   "outputs": [
    {
     "name": "stdout",
     "output_type": "stream",
     "text": [
      "Share of idle time used as ready: 0.8933657229016586\n",
      "Share of idle time used as warmup: 0.026135030993466243\n",
      "Share of idle time not used: 0.08049924610487524\n",
      "Number of measurements where no OW worker was ready: 138\n",
      "Share of time where no OW worker was ready: 0.01712796326175996\n",
      "Average number of ready nodes:  10.58954946009681\n"
     ]
    }
   ],
   "source": [
    "print(\"Share of idle time used as ready:\", MID_RESULTS['simulation']['total_ready_time']/RESOURCES['total_number_of_measurements__idle'])\n",
    "print(\"Share of idle time used as warmup:\", MID_RESULTS['simulation']['total_warmup_time']/RESOURCES['total_number_of_measurements__idle'])\n",
    "print(\"Share of idle time not used:\", 1 - (MID_RESULTS['simulation']['total_warmup_time'] + MID_RESULTS['simulation']['total_ready_time'])/RESOURCES['total_number_of_measurements__idle'])\n",
    "print(\"Number of measurements where no OW worker was ready:\", MID_RESULTS['simulation']['status_summary'][3].count(0))\n",
    "print(\"Share of time where no OW worker was ready:\", MID_RESULTS['simulation']['status_summary'][3].count(0)/CONFIG['DATA_WIDTH'])\n",
    "print(\"Average number of ready nodes: \", (MID_RESULTS['simulation']['total_ready_time']/RESOURCES['total_number_of_measurements__idle']) * (sum(MID_RESULTS['number_of_free_nodes_each_point'])/CONFIG['DATA_WIDTH']))"
   ]
  }
 ],
 "metadata": {
  "interpreter": {
   "hash": "082e9a3bcad0a290d0001e938aa60b99250c6c2ef33a923c00b70f9826caf4b7"
  },
  "kernelspec": {
   "display_name": "Python 3.8.6 64-bit ('3.8')",
   "name": "python3"
  },
  "language_info": {
   "codemirror_mode": {
    "name": "ipython",
    "version": 3
   },
   "file_extension": ".py",
   "mimetype": "text/x-python",
   "name": "python",
   "nbconvert_exporter": "python",
   "pygments_lexer": "ipython3",
   "version": "3.8.6"
  }
 },
 "nbformat": 4,
 "nbformat_minor": 4
}

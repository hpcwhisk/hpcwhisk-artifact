{
 "cells": [
  {
   "cell_type": "code",
   "execution_count": 1,
   "metadata": {},
   "outputs": [],
   "source": [
    "%matplotlib inline\n",
    "import pandas as pd\n",
    "import seaborn as sns\n",
    "import numpy as np\n",
    "import os\n",
    "from functools import partial\n",
    "from itertools import product\n",
    "from matplotlib import pyplot as plt\n",
    "\n",
    "plt.rcParams[\"figure.figsize\"] = (5,3)"
   ]
  },
  {
   "cell_type": "code",
   "execution_count": 2,
   "metadata": {},
   "outputs": [],
   "source": [
    "def load(basedir, func, system):\n",
    "    fn = os.path.join(basedir, f'{system}-{func}.csv')\n",
    "    df = pd.read_csv(fn)\n",
    "    df['client_time'] /= 1000000 # us -> s\n",
    "    df['exec_time'] /= 1000000 # us -> s\n",
    "    df['provider_time'] /= 1000000 # us -> s\n",
    "    df = df.query('is_cold == False').copy()\n",
    "    df['func'] = func\n",
    "    df['system'] = system\n",
    "    return df.melt(id_vars=['memory', 'type', 'is_cold', 'mem_used', 'func', 'system'], value_vars=['exec_time', 'connection_time', 'client_time', 'provider_time'])\n",
    "\n",
    "def save_fig(fn):\n",
    "     plt.tight_layout()\n",
    "     plt.savefig(fn, metadata={'CreationDate': None})"
   ]
  },
  {
   "cell_type": "code",
   "execution_count": 3,
   "metadata": {},
   "outputs": [],
   "source": [
    "all_results = pd.concat([\n",
    "    load('results', func, system) for (func, system) in product(('bfs', 'mst', 'pagerank'), ('aws', 'hpc'))\n",
    "])"
   ]
  },
  {
   "cell_type": "code",
   "execution_count": 4,
   "metadata": {},
   "outputs": [],
   "source": [
    "exec_time_2048 = all_results.query('variable == \"exec_time\" and memory == 2048')\n",
    "exec_time_2048 = exec_time_2048.replace(['aws', 'hpc'], ['AWS', 'Prometheus'])\n",
    "exec_time_2048_200 = exec_time_2048.groupby(['system', 'func']).head(200)"
   ]
  },
  {
   "cell_type": "code",
   "execution_count": 5,
   "metadata": {},
   "outputs": [
    {
     "name": "stdout",
     "output_type": "stream",
     "text": [
      "                       median       avg       p95\n",
      "system     func                                  \n",
      "AWS        bfs       0.060465  0.061884  0.068238\n",
      "           mst       0.062405  0.062799  0.065140\n",
      "           pagerank  0.145082  0.144362  0.152207\n",
      "Prometheus bfs       0.051945  0.053198  0.058469\n",
      "           mst       0.053675  0.054742  0.059225\n",
      "           pagerank  0.125422  0.126733  0.131177\n"
     ]
    }
   ],
   "source": [
    "print(exec_time_2048_200.groupby(['system', 'func']).agg(\n",
    "    median=pd.NamedAgg('value', 'median'),\n",
    "    avg=pd.NamedAgg('value', 'mean'),\n",
    "    p95=pd.NamedAgg('value', partial(np.percentile, q=95)),\n",
    "))"
   ]
  },
  {
   "cell_type": "code",
   "execution_count": 6,
   "metadata": {},
   "outputs": [
    {
     "data": {
      "image/png": "[encoded data removed]",
      "text/plain": [
       "<Figure size 360x180 with 1 Axes>"
      ]
     },
     "metadata": {
      "needs_background": "light"
     },
     "output_type": "display_data"
    }
   ],
   "source": [
    "plt.rcParams[\"figure.figsize\"] = (5, 2.5)\n",
    "ax = sns.boxplot(data=exec_time_2048_200, y='value', x='func', hue='system', showfliers=False, linewidth=1,\n",
    "                 order=['pagerank', 'mst', 'bfs'], hue_order=['Prometheus', 'AWS'])\n",
    "legend = ax.legend()\n",
    "for i,artist in enumerate(ax.artists):\n",
    "    col = artist.get_facecolor()\n",
    "    artist.set_edgecolor(col)\n",
    "    artist.set_facecolor('white')\n",
    "    for line in ax.lines[5*i:i*5+5]:\n",
    "        line.set_color(col)\n",
    "        line.set_mfc(col)\n",
    "        line.set_mec(col)\n",
    "ax.plot()\n",
    "ax.set(ylabel='exec time [s]', xlabel='')\n",
    "save_fig('aws_prometheus_cmp.pdf')"
   ]
  }
 ],
 "metadata": {
  "kernelspec": {
   "display_name": "Python 3",
   "language": "python",
   "name": "python3"
  },
  "language_info": {
   "codemirror_mode": {
    "name": "ipython",
    "version": 3
   },
   "file_extension": ".py",
   "mimetype": "text/x-python",
   "name": "python",
   "nbconvert_exporter": "python",
   "pygments_lexer": "ipython3",
   "version": "3.8.10"
  }
 },
 "nbformat": 4,
 "nbformat_minor": 4
}
